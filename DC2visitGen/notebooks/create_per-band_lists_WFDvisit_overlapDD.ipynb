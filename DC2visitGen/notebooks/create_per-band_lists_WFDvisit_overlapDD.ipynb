{
 "cells": [
  {
   "cell_type": "markdown",
   "metadata": {},
   "source": [
    "This notebook runs `post_process_visit_lists` to take the outputs of `getDC2VisitList` and produce the per-band visit lists.\n",
    "\n",
    "Focus here on the Run 2 WFD visits that overlap the DDF region. "
   ]
  },
  {
   "cell_type": "code",
   "execution_count": 1,
   "metadata": {},
   "outputs": [],
   "source": [
    "import numpy as np\n",
    "import pandas as pd\n",
    "import os\n",
    "import time"
   ]
  },
  {
   "cell_type": "code",
   "execution_count": 2,
   "metadata": {},
   "outputs": [
    {
     "name": "stdout",
     "output_type": "stream",
     "text": [
      "running install\n",
      "running build\n",
      "running build_py\n",
      "copying /global/u2/a/awan/LSST/lsstRepos/DC2_visitList/DC2visitGen/code/post_process_visitList.py -> build/lib/dc2visitgen\n",
      "running install_lib\n",
      "copying build/lib/dc2visitgen/post_process_visitList.py -> /global/homes/a/awan/.local/lib/python3.6/site-packages/dc2visitgen\n",
      "byte-compiling /global/homes/a/awan/.local/lib/python3.6/site-packages/dc2visitgen/post_process_visitList.py to post_process_visitList.cpython-36.pyc\n",
      "running install_egg_info\n",
      "Removing /global/homes/a/awan/.local/lib/python3.6/site-packages/dc2visitgen-0.1-py3.6.egg-info\n",
      "Writing /global/homes/a/awan/.local/lib/python3.6/site-packages/dc2visitgen-0.1-py3.6.egg-info\n"
     ]
    }
   ],
   "source": [
    "os.chdir('/global/u2/a/awan/LSST/lsstRepos/DC2_visitList/')\n",
    "!python setup.py install --user"
   ]
  },
  {
   "cell_type": "code",
   "execution_count": 3,
   "metadata": {},
   "outputs": [],
   "source": [
    "from dc2visitgen import post_process_visit_lists"
   ]
  },
  {
   "cell_type": "code",
   "execution_count": 4,
   "metadata": {},
   "outputs": [
    {
     "name": "stdout",
     "output_type": "stream",
     "text": [
      "Help on function post_process_visit_lists in module dc2visitgen.post_process_visitList:\n",
      "\n",
      "post_process_visit_lists(dir_to_readfrom, wfd_filename, uddf_filename, base_filetag, outDir, saveData=True, nVisits=None, dbpath='/global/cscratch1/sd/awan/dbs_old_unzipped/minion_1016_desc_dithered_v3.db')\n",
      "    The goal here is to take the all-band visit lists produced by DC2_visitListCode, separate them by band\n",
      "    and save the obsHistIDs and expMJD corresponding to all the visits in the given band.\n",
      "    \n",
      "    Essentially following https://github.com/LSSTDESC/DC2-production/blob/master/Notebooks/survey_design_visit_lists.ipynb\n",
      "    \n",
      "    HOWEVER, Run 1.1 uDDF per-band production code include grouping by night, out of which the visits with the minimum airmass\n",
      "    were chosen. Since all the visits need to be simulated for Run 2 and not just a subset, the uDDF lists are created the same\n",
      "    way as for WFD: the visits are only grouped by band and ordered by expMJD.\n",
      "\n"
     ]
    }
   ],
   "source": [
    "help(post_process_visit_lists)"
   ]
  },
  {
   "cell_type": "code",
   "execution_count": 5,
   "metadata": {},
   "outputs": [],
   "source": [
    "mainDir = '/global/homes/a/awan/LSST/lsstRepos/DC2_visitList/DC2visitGen/'"
   ]
  },
  {
   "cell_type": "code",
   "execution_count": 6,
   "metadata": {},
   "outputs": [
    {
     "name": "stdout",
     "output_type": "stream",
     "text": [
      "Working with lsst.sims.maf.__version__: 2.9.0.sims\n",
      "\n",
      "## Working with WFD\n",
      "\n",
      "All-band array: shape = (2253, 2)\n",
      "\n",
      "Working with g-band\n",
      "214 visits for g-band.\n",
      "\n",
      "Saved DC2_Run2_g-band_WFDvisits.txt\n",
      "in /global/homes/a/awan/LSST/lsstRepos/DC2_visitList/DC2visitGen//DC2_Run2_Visits_nside1024//visitLists/per_band_lists_WFD_subset_overlap_DDF.\n",
      "\n",
      "Working with i-band\n",
      "502 visits for i-band.\n",
      "\n",
      "Saved DC2_Run2_i-band_WFDvisits.txt\n",
      "in /global/homes/a/awan/LSST/lsstRepos/DC2_visitList/DC2visitGen//DC2_Run2_Visits_nside1024//visitLists/per_band_lists_WFD_subset_overlap_DDF.\n",
      "\n",
      "Working with r-band\n",
      "488 visits for r-band.\n",
      "\n",
      "Saved DC2_Run2_r-band_WFDvisits.txt\n",
      "in /global/homes/a/awan/LSST/lsstRepos/DC2_visitList/DC2visitGen//DC2_Run2_Visits_nside1024//visitLists/per_band_lists_WFD_subset_overlap_DDF.\n",
      "\n",
      "Working with u-band\n",
      "156 visits for u-band.\n",
      "\n",
      "Saved DC2_Run2_u-band_WFDvisits.txt\n",
      "in /global/homes/a/awan/LSST/lsstRepos/DC2_visitList/DC2visitGen//DC2_Run2_Visits_nside1024//visitLists/per_band_lists_WFD_subset_overlap_DDF.\n",
      "\n",
      "Working with y-band\n",
      "446 visits for y-band.\n",
      "\n",
      "Saved DC2_Run2_y-band_WFDvisits.txt\n",
      "in /global/homes/a/awan/LSST/lsstRepos/DC2_visitList/DC2visitGen//DC2_Run2_Visits_nside1024//visitLists/per_band_lists_WFD_subset_overlap_DDF.\n",
      "\n",
      "Working with z-band\n",
      "447 visits for z-band.\n",
      "\n",
      "Saved DC2_Run2_z-band_WFDvisits.txt\n",
      "in /global/homes/a/awan/LSST/lsstRepos/DC2_visitList/DC2visitGen//DC2_Run2_Visits_nside1024//visitLists/per_band_lists_WFD_subset_overlap_DDF.\n",
      "\n",
      "Total 2253 visits saved.\n",
      "\n",
      "All done. Time taken: 7.42 s\n"
     ]
    }
   ],
   "source": [
    "# create the per-band lists\n",
    "nside = 1024\n",
    "baseDir = '%s/DC2_Run2_Visits_nside%s/'%(mainDir, nside)\n",
    "out = post_process_visit_lists(dir_to_readfrom=baseDir,\n",
    "           wfd_filename='DC2VisitList_minion1016_v3_WFDvisits_nside%s_WFDvisitsInWFD_subsetOverlapDDF.csv'%nside,\n",
    "           uddf_filename=None,\n",
    "           base_filetag='DC2_Run2',\n",
    "           saveData=True,\n",
    "           outDir='%s/visitLists/per_band_lists_WFD_subset_overlap_DDF'%(baseDir),\n",
    "           nVisits=None )"
   ]
  },
  {
   "cell_type": "code",
   "execution_count": null,
   "metadata": {},
   "outputs": [],
   "source": []
  }
 ],
 "metadata": {
  "kernelspec": {
   "display_name": "desc-stack",
   "language": "python",
   "name": "desc-stack"
  },
  "language_info": {
   "codemirror_mode": {
    "name": "ipython",
    "version": 3
   },
   "file_extension": ".py",
   "mimetype": "text/x-python",
   "name": "python",
   "nbconvert_exporter": "python",
   "pygments_lexer": "ipython3",
   "version": "3.6.2"
  }
 },
 "nbformat": 4,
 "nbformat_minor": 2
}
