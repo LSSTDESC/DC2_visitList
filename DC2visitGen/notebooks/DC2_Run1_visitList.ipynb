{
 "cells": [
  {
   "cell_type": "markdown",
   "metadata": {},
   "source": [
    "Goal here is to produce the visits lists (obsID, fID, band) for visits that fall in WFD, uDDF footprint. \n",
    "\n",
    "2 specific scenarios:\n",
    "- WFD visits in WFD footprint\n",
    "- DD visits in uDDF footprint\n",
    "\n",
    "A csv file with relevant info is saved for each visit.\n",
    "\n",
    "Also, gifs are produced to check the first 100 visits in each case."
   ]
  },
  {
   "cell_type": "code",
   "execution_count": 1,
   "metadata": {},
   "outputs": [],
   "source": [
    "import matplotlib.pyplot as plt\n",
    "%matplotlib inline\n",
    "import numpy as np\n",
    "import os\n",
    "import healpy as hp\n",
    "from copy import deepcopy\n",
    "import time"
   ]
  },
  {
   "cell_type": "code",
   "execution_count": 2,
   "metadata": {},
   "outputs": [
    {
     "name": "stdout",
     "output_type": "stream",
     "text": [
      "/global/u2/a/awan/LSST/lsstRepos/DC2_visitList/DC2visitGen/notebooks\n"
     ]
    }
   ],
   "source": [
    "repoDir = os.getcwd()\n",
    "print(repoDir)"
   ]
  },
  {
   "cell_type": "code",
   "execution_count": 3,
   "metadata": {},
   "outputs": [
    {
     "name": "stdout",
     "output_type": "stream",
     "text": [
      "running install\n",
      "running build\n",
      "running build_py\n",
      "running install_lib\n",
      "running install_egg_info\n",
      "Removing /global/homes/a/awan/.local/lib/python3.6/site-packages/dc2visitgen-0.1-py3.6.egg-info\n",
      "Writing /global/homes/a/awan/.local/lib/python3.6/site-packages/dc2visitgen-0.1-py3.6.egg-info\n"
     ]
    }
   ],
   "source": [
    "os.chdir('/global/u2/a/awan/LSST/lsstRepos/DC2_visitList/')\n",
    "!python setup.py install --user"
   ]
  },
  {
   "cell_type": "code",
   "execution_count": 4,
   "metadata": {},
   "outputs": [],
   "source": [
    "# simdata datapath\n",
    "dbpath = '/global/cscratch1/sd/awan/dbs_old_unzipped/minion_1016_desc_dithered_v3.db'"
   ]
  },
  {
   "cell_type": "code",
   "execution_count": 5,
   "metadata": {},
   "outputs": [],
   "source": [
    "# set up\n",
    "pointingRACol = 'descDitheredRA'\n",
    "pointingDecCol = 'descDitheredDec'\n",
    "simDataTag = 'minion1016_v3'\n",
    "nside = 512\n",
    "\n",
    "# where the data will be saved\n",
    "tag = 'protoDC2Visits_nside%s'%(nside)\n",
    "outDir = '%s/../%s/'%(repoDir, tag)\n",
    "outDir_gifs = '/global/homes/a/awan/desc/DC2_GIFS/%s/'%tag"
   ]
  },
  {
   "cell_type": "markdown",
   "metadata": {},
   "source": [
    "#### Set up the regions"
   ]
  },
  {
   "cell_type": "code",
   "execution_count": 6,
   "metadata": {},
   "outputs": [],
   "source": [
    "regionCorners= {}\n",
    "regionCorners['WFD']= [[57.87, -27.25], [58.02, -32.25], [52.11, -32.25], [52.25, -27.25]]\n",
    "regionCorners['DD']= [[53.764, -27.533], [53.771, -28.667], [52.479, -28.667], [52.486, -27.533]]"
   ]
  },
  {
   "cell_type": "code",
   "execution_count": 7,
   "metadata": {},
   "outputs": [
    {
     "data": {
      "image/png": "[encoded data removed]",
      "text/plain": [
       "<matplotlib.figure.Figure at 0x2b1382549d68>"
      ]
     },
     "metadata": {},
     "output_type": "display_data"
    }
   ],
   "source": [
    "# plot the regions to check whats up\n",
    "for key in regionCorners.keys():    \n",
    "    xs, ys= [], []\n",
    "    for x, y in regionCorners[key]:\n",
    "        xs.append(x)\n",
    "        ys.append(y)\n",
    "    plt.plot(xs, ys, 'o-', label= key)\n",
    "plt.legend(loc=\"lower right\", ncol= 2)\n",
    "plt.title('Coords for the regions considered here.')\n",
    "plt.xlabel('ra (deg)')\n",
    "plt.ylabel('dec (deg)')\n",
    "plt.show()"
   ]
  },
  {
   "cell_type": "markdown",
   "metadata": {},
   "source": [
    "#### Find the visits."
   ]
  },
  {
   "cell_type": "code",
   "execution_count": 8,
   "metadata": {},
   "outputs": [],
   "source": [
    "from dc2visitgen import getDC2VisitList"
   ]
  },
  {
   "cell_type": "code",
   "execution_count": 9,
   "metadata": {},
   "outputs": [],
   "source": [
    "simdata, regionPixels, obsIDsList, fIDsList, bandList= {}, {}, {}, {}, {}"
   ]
  },
  {
   "cell_type": "code",
   "execution_count": 10,
   "metadata": {},
   "outputs": [
    {
     "name": "stdout",
     "output_type": "stream",
     "text": [
      "###### lsst.sims.maf.__version__: 2.9.0.sims\n",
      "\n",
      "Healpix slicer using NSIDE=512, approximate resolution 6.870973 arcminutes\n",
      "Querying database Summary with no constraint for columns ['descDitheredRA', 'fiveSigmaDepth', 'descDitheredDec'].\n",
      "Found 2194905 visits\n",
      "Running:  ['pixelGrid']\n",
      "Completed metric generation.\n",
      "Running reduce methods.\n",
      "Running summary statistics.\n",
      "Completed.\n",
      "\n",
      "Finding the visit list.\n",
      "Healpix slicer using NSIDE=512, approximate resolution 6.870973 arcminutes\n",
      "\n",
      "##Total number of unique visits in the region (across all bands): 8389\n",
      "\n",
      "Total number of unique visits in the region for u band: 572\n",
      "fIDs: [1178 1188 1214 1226 1277 1297 1309 1331 1401 1419 1427 1445 1522 1546 1566]\n",
      "\n",
      "Total number of unique visits in the region for g band: 822\n",
      "fIDs: [1178 1188 1214 1226 1277 1297 1309 1331 1401 1419 1427 1445 1522 1546 1566]\n",
      "\n",
      "Total number of unique visits in the region for r band: 1825\n",
      "fIDs: [1178 1188 1214 1226 1277 1297 1309 1331 1401 1419 1427 1445 1522 1546 1566]\n",
      "\n",
      "Total number of unique visits in the region for i band: 1855\n",
      "fIDs: [1178 1188 1214 1226 1277 1297 1309 1331 1401 1419 1427 1445 1522 1546 1566]\n",
      "\n",
      "Total number of unique visits in the region for z band: 1669\n",
      "fIDs: [1178 1188 1214 1226 1277 1297 1309 1331 1401 1419 1427 1445 1522 1546 1566]\n",
      "\n",
      "Total number of unique visits in the region for y band: 1646\n",
      "fIDs: [1178 1188 1214 1226 1277 1297 1309 1331 1401 1419 1427 1445 1522 1546 1566]\n",
      "\n",
      "Saved data in DC2VisitList_minion1016_v3_WFDvisits_nside512_WFDvisitsInWFD.csv.\n",
      "Outdir: /global/u2/a/awan/LSST/lsstRepos/DC2_visitList/DC2visitGen/notebooks/../protoDC2Visits_nside512/visitLists/.\n",
      "\n",
      "Saved data in DC2RegionPixels_minion1016_v3_WFDvisits_nside512_WFDvisitsInWFD.csv.\n",
      "Outdir: /global/u2/a/awan/LSST/lsstRepos/DC2_visitList/DC2visitGen/notebooks/../protoDC2Visits_nside512/regionPixels/.\n",
      "\n",
      "Time taken: 8.202 (min)\n",
      "CPU times: user 8min 3s, sys: 8.08 s, total: 8min 11s\n",
      "Wall time: 8min 12s\n"
     ]
    }
   ],
   "source": [
    "%%time\n",
    "# get WFD visits that fall in the WFD footprint\n",
    "startTime = time.time()\n",
    "surveyRegionTag = 'WFD'\n",
    "\n",
    "out = getDC2VisitList(dbpath, simDataTag, surveyRegionTag, pointingRACol, pointingDecCol,\n",
    "                     outDir, nside, regionCorners[surveyRegionTag],\n",
    "                      filters=['u', 'g', 'r', 'i', 'z', 'y'], outFileTag='WFDvisitsInWFD')\n",
    "\n",
    "simdata[surveyRegionTag], regionPixels[surveyRegionTag], obsIDsList[surveyRegionTag], fIDsList[surveyRegionTag], bandList[surveyRegionTag] = out\n",
    "\n",
    "print('\\nTime taken: %.3f (min)'%((time.time()-startTime)/60.))"
   ]
  },
  {
   "cell_type": "code",
   "execution_count": 11,
   "metadata": {},
   "outputs": [
    {
     "name": "stdout",
     "output_type": "stream",
     "text": [
      "###### lsst.sims.maf.__version__: 2.9.0.sims\n",
      "\n",
      "Healpix slicer using NSIDE=512, approximate resolution 6.870973 arcminutes\n",
      "Querying database Summary with no constraint for columns ['descDitheredRA', 'fiveSigmaDepth', 'descDitheredDec'].\n",
      "Found 2194905 visits\n",
      "Running:  ['pixelGrid']\n",
      "Completed metric generation.\n",
      "Running reduce methods.\n",
      "Running summary statistics.\n",
      "Completed.\n",
      "\n",
      "Finding the visit list.\n",
      "Healpix slicer using NSIDE=512, approximate resolution 6.870973 arcminutes\n",
      "\n",
      "##Total number of unique visits in the region (across all bands): 23160\n",
      "\n",
      "Total number of unique visits in the region for u band: 4963\n",
      "fIDs: [1427]\n",
      "\n",
      "Total number of unique visits in the region for g band: 1911\n",
      "fIDs: [1427]\n",
      "\n",
      "Total number of unique visits in the region for r band: 3796\n",
      "fIDs: [1427]\n",
      "\n",
      "Total number of unique visits in the region for i band: 3818\n",
      "fIDs: [1427]\n",
      "\n",
      "Total number of unique visits in the region for z band: 4930\n",
      "fIDs: [1427]\n",
      "\n",
      "Total number of unique visits in the region for y band: 3742\n",
      "fIDs: [1427]\n",
      "\n",
      "Saved data in DC2VisitList_minion1016_v3_DDvisits_nside512_DDvisitsInuDD.csv.\n",
      "Outdir: /global/u2/a/awan/LSST/lsstRepos/DC2_visitList/DC2visitGen/notebooks/../protoDC2Visits_nside512/visitLists/.\n",
      "\n",
      "Saved data in DC2RegionPixels_minion1016_v3_DDvisits_nside512_DDvisitsInuDD.csv.\n",
      "Outdir: /global/u2/a/awan/LSST/lsstRepos/DC2_visitList/DC2visitGen/notebooks/../protoDC2Visits_nside512/regionPixels/.\n",
      "\n",
      "Time taken: 7.980 (min)\n",
      "CPU times: user 7min 50s, sys: 6.62 s, total: 7min 57s\n",
      "Wall time: 7min 58s\n"
     ]
    }
   ],
   "source": [
    "%%time\n",
    "# get DD visits that fall in the uDDF footprint\n",
    "startTime= time.time()\n",
    "surveyRegionTag= 'DD'\n",
    "\n",
    "out= getDC2VisitList(dbpath, simDataTag, surveyRegionTag, pointingRACol, pointingDecCol,\n",
    "                     outDir, nside, regionCorners[surveyRegionTag],\n",
    "                    filters= ['u', 'g', 'r', 'i', 'z', 'y'], outFileTag= 'DDvisitsInuDD')\n",
    "\n",
    "simdata[surveyRegionTag], regionPixels[surveyRegionTag], obsIDsList[surveyRegionTag], fIDsList[surveyRegionTag], bandList[surveyRegionTag]= out\n",
    "print('\\nTime taken: %.3f (min)'%((time.time()-startTime)/60.))"
   ]
  },
  {
   "cell_type": "markdown",
   "metadata": {},
   "source": [
    "#### Plot the sims for checks."
   ]
  },
  {
   "cell_type": "code",
   "execution_count": 12,
   "metadata": {},
   "outputs": [],
   "source": [
    "from dc2visitgen import DC2VisitsSim"
   ]
  },
  {
   "cell_type": "code",
   "execution_count": 13,
   "metadata": {},
   "outputs": [],
   "source": [
    "ras, decs = [], []\n",
    "for key in regionCorners:\n",
    "    for i in regionCorners[key]:\n",
    "        ras.append(i[0])\n",
    "        decs.append(i[1])\n",
    "    \n",
    "minRA, maxRA = min(ras), max(ras)\n",
    "minDec, maxDec = min(decs), max(decs)"
   ]
  },
  {
   "cell_type": "code",
   "execution_count": 14,
   "metadata": {
    "scrolled": true
   },
   "outputs": [
    {
     "name": "stdout",
     "output_type": "stream",
     "text": [
      "Saved hIDs_0-100Index_WFD_test_nside512.gif\n",
      "CPU times: user 30.2 s, sys: 4.36 s, total: 34.6 s\n",
      "Wall time: 34.9 s\n"
     ]
    }
   ],
   "source": [
    "%%time\n",
    "surveyRegionTag = 'WFD'\n",
    "DC2VisitsSim(outDir_gifs, 'WFD_test', simdata[surveyRegionTag], pointingRACol, pointingDecCol,\n",
    "             obsIDsList[surveyRegionTag], fIDsList[surveyRegionTag], bandList[surveyRegionTag],\n",
    "             regionPixels_WFD=regionPixels['WFD'], regionPixels_DD=regionPixels['DD'],\n",
    "             nside=nside, obsHistIndMin=0, obsHistIndMax=100,\n",
    "             minRA=minRA, maxRA=maxRA, minDec=minDec, maxDec=maxDec)"
   ]
  },
  {
   "cell_type": "code",
   "execution_count": 15,
   "metadata": {},
   "outputs": [
    {
     "name": "stdout",
     "output_type": "stream",
     "text": [
      "Saved hIDs_0-100Index_uDD_test_nside512.gif\n",
      "CPU times: user 27.3 s, sys: 3.34 s, total: 30.6 s\n",
      "Wall time: 30.7 s\n"
     ]
    }
   ],
   "source": [
    "%%time\n",
    "surveyRegionTag = 'DD'\n",
    "DC2VisitsSim(outDir_gifs, 'uDD_test', simdata[surveyRegionTag], pointingRACol, pointingDecCol,\n",
    "             obsIDsList[surveyRegionTag], fIDsList[surveyRegionTag], bandList[surveyRegionTag],\n",
    "             regionPixels_WFD=regionPixels['WFD'], regionPixels_DD=regionPixels['DD'],\n",
    "             nside=nside, obsHistIndMin=0, obsHistIndMax=100,\n",
    "             minRA=minRA, maxRA=maxRA, minDec=minDec, maxDec=maxDec)"
   ]
  },
  {
   "cell_type": "code",
   "execution_count": 16,
   "metadata": {},
   "outputs": [
    {
     "name": "stdout",
     "output_type": "stream",
     "text": [
      "Saved hIDs_0-100Index_WFD_test_highres_nside512.gif\n",
      "CPU times: user 35.6 s, sys: 3.59 s, total: 39.2 s\n",
      "Wall time: 39.3 s\n"
     ]
    }
   ],
   "source": [
    "%%time\n",
    "#### higher res.\n",
    "surveyRegionTag= 'WFD'\n",
    "DC2VisitsSim(outDir_gifs, 'WFD_test_highres', simdata[surveyRegionTag], pointingRACol, pointingDecCol,\n",
    "             obsIDsList[surveyRegionTag], fIDsList[surveyRegionTag], bandList[surveyRegionTag],\n",
    "             regionPixels_WFD=regionPixels['WFD'], regionPixels_DD=regionPixels['DD'],\n",
    "             nside=nside, obsHistIndMin=0, obsHistIndMax=100, dpi=60,\n",
    "             minRA=minRA, maxRA=maxRA, minDec=minDec, maxDec=maxDec)"
   ]
  },
  {
   "cell_type": "code",
   "execution_count": 17,
   "metadata": {},
   "outputs": [
    {
     "name": "stdout",
     "output_type": "stream",
     "text": [
      "WFD: 27.0409921316 deg2\n",
      "DD: 1.71792918004 deg2\n"
     ]
    }
   ],
   "source": [
    "# estimate the region area using the area in the HP pixels\n",
    "for key in regionPixels:\n",
    "    print('%s: %s deg2'%(key, len(regionPixels[key])*hp.nside2pixarea(nside, degrees=True)))"
   ]
  },
  {
   "cell_type": "code",
   "execution_count": null,
   "metadata": {},
   "outputs": [],
   "source": []
  }
 ],
 "metadata": {
  "anaconda-cloud": {},
  "kernelspec": {
   "display_name": "desc-stack",
   "language": "python",
   "name": "desc-stack"
  },
  "language_info": {
   "codemirror_mode": {
    "name": "ipython",
    "version": 3
   },
   "file_extension": ".py",
   "mimetype": "text/x-python",
   "name": "python",
   "nbconvert_exporter": "python",
   "pygments_lexer": "ipython3",
   "version": "3.6.2"
  }
 },
 "nbformat": 4,
 "nbformat_minor": 2
}
