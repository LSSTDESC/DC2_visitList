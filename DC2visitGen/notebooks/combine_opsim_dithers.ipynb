{
 "cells": [
  {
   "cell_type": "markdown",
   "metadata": {},
   "source": [
    "We combine the observations in a opsim database in\n",
    "- `undithered_opsimdb` with\n",
    "- new dithers in a csv file called `newdithers` \n",
    "and write the result to a csv file `output`. Change these variable names to use different inputs and outputs \n",
    "\n",
    "The inputs used are:\n",
    "- `undithered_opsimdb` : `minion_1016_desc_v1.db`\n",
    "- `newdithers`:`descDithers_attempt1.csv`"
   ]
  },
  {
   "cell_type": "markdown",
   "metadata": {},
   "source": [
    "## Inputs"
   ]
  },
  {
   "cell_type": "code",
   "execution_count": 15,
   "metadata": {
    "collapsed": false
   },
   "outputs": [],
   "source": [
    "newdithers = 'descDithers_attempt1.csv'\n",
    "undithered_opsimdb = 'minion_1016_desc_v1.db'\n",
    "output = 'minion_1016_desc_dithered_v2.csv'\n",
    "output_nohead = 'minion_1016_desc_dithered_noheader_v2.csv'"
   ]
  },
  {
   "cell_type": "code",
   "execution_count": 2,
   "metadata": {
    "collapsed": true
   },
   "outputs": [],
   "source": [
    "import numpy as np\n",
    "import pandas as pd"
   ]
  },
  {
   "cell_type": "code",
   "execution_count": 3,
   "metadata": {
    "collapsed": false
   },
   "outputs": [
    {
     "name": "stdout",
     "output_type": "stream",
     "text": [
      "1.3.7\n"
     ]
    }
   ],
   "source": [
    "import opsimsummary as oss\n",
    "print(oss.__version__)"
   ]
  },
  {
   "cell_type": "code",
   "execution_count": 4,
   "metadata": {
    "collapsed": false
   },
   "outputs": [
    {
     "data": {
      "text/html": [
       "<div>\n",
       "<table border=\"1\" class=\"dataframe\">\n",
       "  <thead>\n",
       "    <tr style=\"text-align: right;\">\n",
       "      <th></th>\n",
       "      <th>Unnamed: 0</th>\n",
       "      <th>descDitheredDec</th>\n",
       "      <th>descDitheredRA</th>\n",
       "      <th>descDitheredRotTelPos</th>\n",
       "    </tr>\n",
       "    <tr>\n",
       "      <th>obsHistID</th>\n",
       "      <th></th>\n",
       "      <th></th>\n",
       "      <th></th>\n",
       "      <th></th>\n",
       "    </tr>\n",
       "  </thead>\n",
       "  <tbody>\n",
       "    <tr>\n",
       "      <th>1</th>\n",
       "      <td>0</td>\n",
       "      <td>-1.086185</td>\n",
       "      <td>1.715533</td>\n",
       "      <td>0.000000</td>\n",
       "    </tr>\n",
       "    <tr>\n",
       "      <th>2</th>\n",
       "      <td>1</td>\n",
       "      <td>-1.059274</td>\n",
       "      <td>1.663407</td>\n",
       "      <td>0.002508</td>\n",
       "    </tr>\n",
       "    <tr>\n",
       "      <th>3</th>\n",
       "      <td>2</td>\n",
       "      <td>-0.962342</td>\n",
       "      <td>1.685829</td>\n",
       "      <td>0.005246</td>\n",
       "    </tr>\n",
       "    <tr>\n",
       "      <th>4</th>\n",
       "      <td>3</td>\n",
       "      <td>-0.912870</td>\n",
       "      <td>1.718482</td>\n",
       "      <td>0.007860</td>\n",
       "    </tr>\n",
       "    <tr>\n",
       "      <th>5</th>\n",
       "      <td>4</td>\n",
       "      <td>-0.895577</td>\n",
       "      <td>1.744687</td>\n",
       "      <td>0.010330</td>\n",
       "    </tr>\n",
       "  </tbody>\n",
       "</table>\n",
       "</div>"
      ],
      "text/plain": [
       "           Unnamed: 0  descDitheredDec  descDitheredRA  descDitheredRotTelPos\n",
       "obsHistID                                                                    \n",
       "1                   0        -1.086185        1.715533               0.000000\n",
       "2                   1        -1.059274        1.663407               0.002508\n",
       "3                   2        -0.962342        1.685829               0.005246\n",
       "4                   3        -0.912870        1.718482               0.007860\n",
       "5                   4        -0.895577        1.744687               0.010330"
      ]
     },
     "execution_count": 4,
     "metadata": {},
     "output_type": "execute_result"
    }
   ],
   "source": [
    "newdithData = pd.read_csv(newdithers, index_col='obsHistID')\n",
    "newdithData.head()"
   ]
  },
  {
   "cell_type": "code",
   "execution_count": 5,
   "metadata": {
    "collapsed": false
   },
   "outputs": [
    {
     "data": {
      "text/plain": [
       "Index([u'Unnamed: 0', u'descDitheredDec', u'descDitheredRA',\n",
       "       u'descDitheredRotTelPos'],\n",
       "      dtype='object')"
      ]
     },
     "execution_count": 5,
     "metadata": {},
     "output_type": "execute_result"
    }
   ],
   "source": [
    "newdithData.columns"
   ]
  },
  {
   "cell_type": "code",
   "execution_count": 6,
   "metadata": {
    "collapsed": false
   },
   "outputs": [
    {
     "name": "stdout",
     "output_type": "stream",
     "text": [
      " reading from database sqlite:///minion_1016_desc_v1.db\n",
      "SELECT * FROM Summary WHERE PROPID in (56, 54)\n"
     ]
    }
   ],
   "source": [
    "recalcData = oss.OpSimOutput.fromOpSimDB(undithered_opsimdb, subset='combined')"
   ]
  },
  {
   "cell_type": "code",
   "execution_count": 7,
   "metadata": {
    "collapsed": false
   },
   "outputs": [
    {
     "data": {
      "text/plain": [
       "Index([u'sessionID', u'propID', u'fieldID', u'fieldRA', u'fieldDec', u'filter',\n",
       "       u'expDate', u'expMJD', u'night', u'visitTime', u'visitExpTime',\n",
       "       u'finRank', u'FWHMeff', u'FWHMgeom', u'transparency', u'airmass',\n",
       "       u'vSkyBright', u'filtSkyBrightness', u'rotSkyPos', u'rotTelPos', u'lst',\n",
       "       u'altitude', u'azimuth', u'dist2Moon', u'solarElong', u'moonRA',\n",
       "       u'moonDec', u'moonAlt', u'moonAZ', u'moonPhase', u'sunAlt', u'sunAz',\n",
       "       u'phaseAngle', u'rScatter', u'mieScatter', u'moonIllum', u'moonBright',\n",
       "       u'darkBright', u'rawSeeing', u'wind', u'humidity', u'slewDist',\n",
       "       u'slewTime', u'fiveSigmaDepth', u'ditheredRA', u'ditheredDec'],\n",
       "      dtype='object')"
      ]
     },
     "execution_count": 7,
     "metadata": {},
     "output_type": "execute_result"
    }
   ],
   "source": [
    "recalcData.summary.columns"
   ]
  },
  {
   "cell_type": "code",
   "execution_count": 8,
   "metadata": {
    "collapsed": false
   },
   "outputs": [
    {
     "data": {
      "text/html": [
       "<div>\n",
       "<table border=\"1\" class=\"dataframe\">\n",
       "  <thead>\n",
       "    <tr style=\"text-align: right;\">\n",
       "      <th></th>\n",
       "      <th>sessionID</th>\n",
       "      <th>propID</th>\n",
       "      <th>fieldID</th>\n",
       "      <th>fieldRA</th>\n",
       "      <th>fieldDec</th>\n",
       "      <th>filter</th>\n",
       "      <th>expDate</th>\n",
       "      <th>expMJD</th>\n",
       "      <th>night</th>\n",
       "      <th>visitTime</th>\n",
       "      <th>...</th>\n",
       "      <th>moonBright</th>\n",
       "      <th>darkBright</th>\n",
       "      <th>rawSeeing</th>\n",
       "      <th>wind</th>\n",
       "      <th>humidity</th>\n",
       "      <th>slewDist</th>\n",
       "      <th>slewTime</th>\n",
       "      <th>fiveSigmaDepth</th>\n",
       "      <th>ditheredRA</th>\n",
       "      <th>ditheredDec</th>\n",
       "    </tr>\n",
       "    <tr>\n",
       "      <th>obsHistID</th>\n",
       "      <th></th>\n",
       "      <th></th>\n",
       "      <th></th>\n",
       "      <th></th>\n",
       "      <th></th>\n",
       "      <th></th>\n",
       "      <th></th>\n",
       "      <th></th>\n",
       "      <th></th>\n",
       "      <th></th>\n",
       "      <th></th>\n",
       "      <th></th>\n",
       "      <th></th>\n",
       "      <th></th>\n",
       "      <th></th>\n",
       "      <th></th>\n",
       "      <th></th>\n",
       "      <th></th>\n",
       "      <th></th>\n",
       "      <th></th>\n",
       "      <th></th>\n",
       "    </tr>\n",
       "  </thead>\n",
       "  <tbody>\n",
       "    <tr>\n",
       "      <th>1</th>\n",
       "      <td>1016</td>\n",
       "      <td>54</td>\n",
       "      <td>316</td>\n",
       "      <td>1.676483</td>\n",
       "      <td>-1.082473</td>\n",
       "      <td>y</td>\n",
       "      <td>2922</td>\n",
       "      <td>59580.033829</td>\n",
       "      <td>0</td>\n",
       "      <td>34.0</td>\n",
       "      <td>...</td>\n",
       "      <td>0.0</td>\n",
       "      <td>105.610378</td>\n",
       "      <td>0.920473</td>\n",
       "      <td>0.0</td>\n",
       "      <td>0.0</td>\n",
       "      <td>1.620307</td>\n",
       "      <td>0.000000</td>\n",
       "      <td>20.941342</td>\n",
       "      <td>1.643930</td>\n",
       "      <td>-1.108924</td>\n",
       "    </tr>\n",
       "    <tr>\n",
       "      <th>2</th>\n",
       "      <td>1016</td>\n",
       "      <td>54</td>\n",
       "      <td>372</td>\n",
       "      <td>1.694120</td>\n",
       "      <td>-1.033972</td>\n",
       "      <td>y</td>\n",
       "      <td>2961</td>\n",
       "      <td>59580.034275</td>\n",
       "      <td>0</td>\n",
       "      <td>34.0</td>\n",
       "      <td>...</td>\n",
       "      <td>0.0</td>\n",
       "      <td>105.167017</td>\n",
       "      <td>0.920473</td>\n",
       "      <td>0.0</td>\n",
       "      <td>0.0</td>\n",
       "      <td>0.049266</td>\n",
       "      <td>4.574944</td>\n",
       "      <td>20.999399</td>\n",
       "      <td>1.664257</td>\n",
       "      <td>-1.060423</td>\n",
       "    </tr>\n",
       "    <tr>\n",
       "      <th>3</th>\n",
       "      <td>1016</td>\n",
       "      <td>54</td>\n",
       "      <td>441</td>\n",
       "      <td>1.708513</td>\n",
       "      <td>-0.985271</td>\n",
       "      <td>y</td>\n",
       "      <td>2999</td>\n",
       "      <td>59580.034722</td>\n",
       "      <td>0</td>\n",
       "      <td>34.0</td>\n",
       "      <td>...</td>\n",
       "      <td>0.0</td>\n",
       "      <td>104.849578</td>\n",
       "      <td>0.920473</td>\n",
       "      <td>0.0</td>\n",
       "      <td>0.0</td>\n",
       "      <td>0.049298</td>\n",
       "      <td>4.595615</td>\n",
       "      <td>21.047483</td>\n",
       "      <td>1.680878</td>\n",
       "      <td>-1.011722</td>\n",
       "    </tr>\n",
       "    <tr>\n",
       "      <th>4</th>\n",
       "      <td>1016</td>\n",
       "      <td>54</td>\n",
       "      <td>505</td>\n",
       "      <td>1.720374</td>\n",
       "      <td>-0.936476</td>\n",
       "      <td>y</td>\n",
       "      <td>3038</td>\n",
       "      <td>59580.035169</td>\n",
       "      <td>0</td>\n",
       "      <td>34.0</td>\n",
       "      <td>...</td>\n",
       "      <td>0.0</td>\n",
       "      <td>104.669398</td>\n",
       "      <td>0.920473</td>\n",
       "      <td>0.0</td>\n",
       "      <td>0.0</td>\n",
       "      <td>0.049266</td>\n",
       "      <td>4.605366</td>\n",
       "      <td>21.100647</td>\n",
       "      <td>1.694604</td>\n",
       "      <td>-0.962927</td>\n",
       "    </tr>\n",
       "    <tr>\n",
       "      <th>5</th>\n",
       "      <td>1016</td>\n",
       "      <td>54</td>\n",
       "      <td>587</td>\n",
       "      <td>1.730248</td>\n",
       "      <td>-0.887672</td>\n",
       "      <td>y</td>\n",
       "      <td>3077</td>\n",
       "      <td>59580.035616</td>\n",
       "      <td>0</td>\n",
       "      <td>34.0</td>\n",
       "      <td>...</td>\n",
       "      <td>0.0</td>\n",
       "      <td>104.627207</td>\n",
       "      <td>0.920473</td>\n",
       "      <td>0.0</td>\n",
       "      <td>0.0</td>\n",
       "      <td>0.049177</td>\n",
       "      <td>4.604023</td>\n",
       "      <td>21.139656</td>\n",
       "      <td>1.706054</td>\n",
       "      <td>-0.914123</td>\n",
       "    </tr>\n",
       "  </tbody>\n",
       "</table>\n",
       "<p>5 rows × 46 columns</p>\n",
       "</div>"
      ],
      "text/plain": [
       "           sessionID  propID  fieldID   fieldRA  fieldDec filter  expDate  \\\n",
       "obsHistID                                                                   \n",
       "1               1016      54      316  1.676483 -1.082473      y     2922   \n",
       "2               1016      54      372  1.694120 -1.033972      y     2961   \n",
       "3               1016      54      441  1.708513 -0.985271      y     2999   \n",
       "4               1016      54      505  1.720374 -0.936476      y     3038   \n",
       "5               1016      54      587  1.730248 -0.887672      y     3077   \n",
       "\n",
       "                 expMJD  night  visitTime     ...       moonBright  \\\n",
       "obsHistID                                     ...                    \n",
       "1          59580.033829      0       34.0     ...              0.0   \n",
       "2          59580.034275      0       34.0     ...              0.0   \n",
       "3          59580.034722      0       34.0     ...              0.0   \n",
       "4          59580.035169      0       34.0     ...              0.0   \n",
       "5          59580.035616      0       34.0     ...              0.0   \n",
       "\n",
       "           darkBright  rawSeeing  wind  humidity  slewDist  slewTime  \\\n",
       "obsHistID                                                              \n",
       "1          105.610378   0.920473   0.0       0.0  1.620307  0.000000   \n",
       "2          105.167017   0.920473   0.0       0.0  0.049266  4.574944   \n",
       "3          104.849578   0.920473   0.0       0.0  0.049298  4.595615   \n",
       "4          104.669398   0.920473   0.0       0.0  0.049266  4.605366   \n",
       "5          104.627207   0.920473   0.0       0.0  0.049177  4.604023   \n",
       "\n",
       "           fiveSigmaDepth  ditheredRA  ditheredDec  \n",
       "obsHistID                                           \n",
       "1               20.941342    1.643930    -1.108924  \n",
       "2               20.999399    1.664257    -1.060423  \n",
       "3               21.047483    1.680878    -1.011722  \n",
       "4               21.100647    1.694604    -0.962927  \n",
       "5               21.139656    1.706054    -0.914123  \n",
       "\n",
       "[5 rows x 46 columns]"
      ]
     },
     "execution_count": 8,
     "metadata": {},
     "output_type": "execute_result"
    }
   ],
   "source": [
    "recalcData.summary.head()"
   ]
  },
  {
   "cell_type": "code",
   "execution_count": 9,
   "metadata": {
    "collapsed": true
   },
   "outputs": [],
   "source": [
    "del newdithData['Unnamed: 0']"
   ]
  },
  {
   "cell_type": "code",
   "execution_count": 10,
   "metadata": {
    "collapsed": false
   },
   "outputs": [
    {
     "data": {
      "text/html": [
       "<div>\n",
       "<table border=\"1\" class=\"dataframe\">\n",
       "  <thead>\n",
       "    <tr style=\"text-align: right;\">\n",
       "      <th></th>\n",
       "      <th>descDitheredDec</th>\n",
       "      <th>descDitheredRA</th>\n",
       "      <th>descDitheredRotTelPos</th>\n",
       "    </tr>\n",
       "    <tr>\n",
       "      <th>obsHistID</th>\n",
       "      <th></th>\n",
       "      <th></th>\n",
       "      <th></th>\n",
       "    </tr>\n",
       "  </thead>\n",
       "  <tbody>\n",
       "    <tr>\n",
       "      <th>1</th>\n",
       "      <td>-1.086185</td>\n",
       "      <td>1.715533</td>\n",
       "      <td>0.000000</td>\n",
       "    </tr>\n",
       "    <tr>\n",
       "      <th>2</th>\n",
       "      <td>-1.059274</td>\n",
       "      <td>1.663407</td>\n",
       "      <td>0.002508</td>\n",
       "    </tr>\n",
       "    <tr>\n",
       "      <th>3</th>\n",
       "      <td>-0.962342</td>\n",
       "      <td>1.685829</td>\n",
       "      <td>0.005246</td>\n",
       "    </tr>\n",
       "    <tr>\n",
       "      <th>4</th>\n",
       "      <td>-0.912870</td>\n",
       "      <td>1.718482</td>\n",
       "      <td>0.007860</td>\n",
       "    </tr>\n",
       "    <tr>\n",
       "      <th>5</th>\n",
       "      <td>-0.895577</td>\n",
       "      <td>1.744687</td>\n",
       "      <td>0.010330</td>\n",
       "    </tr>\n",
       "  </tbody>\n",
       "</table>\n",
       "</div>"
      ],
      "text/plain": [
       "           descDitheredDec  descDitheredRA  descDitheredRotTelPos\n",
       "obsHistID                                                        \n",
       "1                -1.086185        1.715533               0.000000\n",
       "2                -1.059274        1.663407               0.002508\n",
       "3                -0.962342        1.685829               0.005246\n",
       "4                -0.912870        1.718482               0.007860\n",
       "5                -0.895577        1.744687               0.010330"
      ]
     },
     "execution_count": 10,
     "metadata": {},
     "output_type": "execute_result"
    }
   ],
   "source": [
    "newdithData.head()"
   ]
  },
  {
   "cell_type": "code",
   "execution_count": 11,
   "metadata": {
    "collapsed": false
   },
   "outputs": [],
   "source": [
    "data = recalcData.summary.join(newdithData)"
   ]
  },
  {
   "cell_type": "code",
   "execution_count": 12,
   "metadata": {
    "collapsed": false
   },
   "outputs": [
    {
     "data": {
      "text/plain": [
       "Index([            u'sessionID',                u'propID',\n",
       "                     u'fieldID',               u'fieldRA',\n",
       "                    u'fieldDec',                u'filter',\n",
       "                     u'expDate',                u'expMJD',\n",
       "                       u'night',             u'visitTime',\n",
       "                u'visitExpTime',               u'finRank',\n",
       "                     u'FWHMeff',              u'FWHMgeom',\n",
       "                u'transparency',               u'airmass',\n",
       "                  u'vSkyBright',     u'filtSkyBrightness',\n",
       "                   u'rotSkyPos',             u'rotTelPos',\n",
       "                         u'lst',              u'altitude',\n",
       "                     u'azimuth',             u'dist2Moon',\n",
       "                  u'solarElong',                u'moonRA',\n",
       "                     u'moonDec',               u'moonAlt',\n",
       "                      u'moonAZ',             u'moonPhase',\n",
       "                      u'sunAlt',                 u'sunAz',\n",
       "                  u'phaseAngle',              u'rScatter',\n",
       "                  u'mieScatter',             u'moonIllum',\n",
       "                  u'moonBright',            u'darkBright',\n",
       "                   u'rawSeeing',                  u'wind',\n",
       "                    u'humidity',              u'slewDist',\n",
       "                    u'slewTime',        u'fiveSigmaDepth',\n",
       "                  u'ditheredRA',           u'ditheredDec',\n",
       "             u'descDitheredDec',        u'descDitheredRA',\n",
       "       u'descDitheredRotTelPos'],\n",
       "      dtype='object')"
      ]
     },
     "execution_count": 12,
     "metadata": {},
     "output_type": "execute_result"
    }
   ],
   "source": [
    "data.columns"
   ]
  },
  {
   "cell_type": "code",
   "execution_count": 13,
   "metadata": {
    "collapsed": false
   },
   "outputs": [
    {
     "data": {
      "text/html": [
       "<div>\n",
       "<table border=\"1\" class=\"dataframe\">\n",
       "  <thead>\n",
       "    <tr style=\"text-align: right;\">\n",
       "      <th></th>\n",
       "      <th>sessionID</th>\n",
       "      <th>propID</th>\n",
       "      <th>fieldID</th>\n",
       "      <th>fieldRA</th>\n",
       "      <th>fieldDec</th>\n",
       "      <th>filter</th>\n",
       "      <th>expDate</th>\n",
       "      <th>expMJD</th>\n",
       "      <th>night</th>\n",
       "      <th>visitTime</th>\n",
       "      <th>...</th>\n",
       "      <th>wind</th>\n",
       "      <th>humidity</th>\n",
       "      <th>slewDist</th>\n",
       "      <th>slewTime</th>\n",
       "      <th>fiveSigmaDepth</th>\n",
       "      <th>ditheredRA</th>\n",
       "      <th>ditheredDec</th>\n",
       "      <th>descDitheredDec</th>\n",
       "      <th>descDitheredRA</th>\n",
       "      <th>descDitheredRotTelPos</th>\n",
       "    </tr>\n",
       "    <tr>\n",
       "      <th>obsHistID</th>\n",
       "      <th></th>\n",
       "      <th></th>\n",
       "      <th></th>\n",
       "      <th></th>\n",
       "      <th></th>\n",
       "      <th></th>\n",
       "      <th></th>\n",
       "      <th></th>\n",
       "      <th></th>\n",
       "      <th></th>\n",
       "      <th></th>\n",
       "      <th></th>\n",
       "      <th></th>\n",
       "      <th></th>\n",
       "      <th></th>\n",
       "      <th></th>\n",
       "      <th></th>\n",
       "      <th></th>\n",
       "      <th></th>\n",
       "      <th></th>\n",
       "      <th></th>\n",
       "    </tr>\n",
       "  </thead>\n",
       "  <tbody>\n",
       "    <tr>\n",
       "      <th>1</th>\n",
       "      <td>1016</td>\n",
       "      <td>54</td>\n",
       "      <td>316</td>\n",
       "      <td>1.676483</td>\n",
       "      <td>-1.082473</td>\n",
       "      <td>y</td>\n",
       "      <td>2922</td>\n",
       "      <td>59580.033829</td>\n",
       "      <td>0</td>\n",
       "      <td>34.0</td>\n",
       "      <td>...</td>\n",
       "      <td>0.0</td>\n",
       "      <td>0.0</td>\n",
       "      <td>1.620307</td>\n",
       "      <td>0.000000</td>\n",
       "      <td>20.941342</td>\n",
       "      <td>1.643930</td>\n",
       "      <td>-1.108924</td>\n",
       "      <td>-1.086185</td>\n",
       "      <td>1.715533</td>\n",
       "      <td>0.000000</td>\n",
       "    </tr>\n",
       "    <tr>\n",
       "      <th>2</th>\n",
       "      <td>1016</td>\n",
       "      <td>54</td>\n",
       "      <td>372</td>\n",
       "      <td>1.694120</td>\n",
       "      <td>-1.033972</td>\n",
       "      <td>y</td>\n",
       "      <td>2961</td>\n",
       "      <td>59580.034275</td>\n",
       "      <td>0</td>\n",
       "      <td>34.0</td>\n",
       "      <td>...</td>\n",
       "      <td>0.0</td>\n",
       "      <td>0.0</td>\n",
       "      <td>0.049266</td>\n",
       "      <td>4.574944</td>\n",
       "      <td>20.999399</td>\n",
       "      <td>1.664257</td>\n",
       "      <td>-1.060423</td>\n",
       "      <td>-1.059274</td>\n",
       "      <td>1.663407</td>\n",
       "      <td>0.002508</td>\n",
       "    </tr>\n",
       "    <tr>\n",
       "      <th>3</th>\n",
       "      <td>1016</td>\n",
       "      <td>54</td>\n",
       "      <td>441</td>\n",
       "      <td>1.708513</td>\n",
       "      <td>-0.985271</td>\n",
       "      <td>y</td>\n",
       "      <td>2999</td>\n",
       "      <td>59580.034722</td>\n",
       "      <td>0</td>\n",
       "      <td>34.0</td>\n",
       "      <td>...</td>\n",
       "      <td>0.0</td>\n",
       "      <td>0.0</td>\n",
       "      <td>0.049298</td>\n",
       "      <td>4.595615</td>\n",
       "      <td>21.047483</td>\n",
       "      <td>1.680878</td>\n",
       "      <td>-1.011722</td>\n",
       "      <td>-0.962342</td>\n",
       "      <td>1.685829</td>\n",
       "      <td>0.005246</td>\n",
       "    </tr>\n",
       "    <tr>\n",
       "      <th>4</th>\n",
       "      <td>1016</td>\n",
       "      <td>54</td>\n",
       "      <td>505</td>\n",
       "      <td>1.720374</td>\n",
       "      <td>-0.936476</td>\n",
       "      <td>y</td>\n",
       "      <td>3038</td>\n",
       "      <td>59580.035169</td>\n",
       "      <td>0</td>\n",
       "      <td>34.0</td>\n",
       "      <td>...</td>\n",
       "      <td>0.0</td>\n",
       "      <td>0.0</td>\n",
       "      <td>0.049266</td>\n",
       "      <td>4.605366</td>\n",
       "      <td>21.100647</td>\n",
       "      <td>1.694604</td>\n",
       "      <td>-0.962927</td>\n",
       "      <td>-0.912870</td>\n",
       "      <td>1.718482</td>\n",
       "      <td>0.007860</td>\n",
       "    </tr>\n",
       "    <tr>\n",
       "      <th>5</th>\n",
       "      <td>1016</td>\n",
       "      <td>54</td>\n",
       "      <td>587</td>\n",
       "      <td>1.730248</td>\n",
       "      <td>-0.887672</td>\n",
       "      <td>y</td>\n",
       "      <td>3077</td>\n",
       "      <td>59580.035616</td>\n",
       "      <td>0</td>\n",
       "      <td>34.0</td>\n",
       "      <td>...</td>\n",
       "      <td>0.0</td>\n",
       "      <td>0.0</td>\n",
       "      <td>0.049177</td>\n",
       "      <td>4.604023</td>\n",
       "      <td>21.139656</td>\n",
       "      <td>1.706054</td>\n",
       "      <td>-0.914123</td>\n",
       "      <td>-0.895577</td>\n",
       "      <td>1.744687</td>\n",
       "      <td>0.010330</td>\n",
       "    </tr>\n",
       "  </tbody>\n",
       "</table>\n",
       "<p>5 rows × 49 columns</p>\n",
       "</div>"
      ],
      "text/plain": [
       "           sessionID  propID  fieldID   fieldRA  fieldDec filter  expDate  \\\n",
       "obsHistID                                                                   \n",
       "1               1016      54      316  1.676483 -1.082473      y     2922   \n",
       "2               1016      54      372  1.694120 -1.033972      y     2961   \n",
       "3               1016      54      441  1.708513 -0.985271      y     2999   \n",
       "4               1016      54      505  1.720374 -0.936476      y     3038   \n",
       "5               1016      54      587  1.730248 -0.887672      y     3077   \n",
       "\n",
       "                 expMJD  night  visitTime          ...            wind  \\\n",
       "obsHistID                                          ...                   \n",
       "1          59580.033829      0       34.0          ...             0.0   \n",
       "2          59580.034275      0       34.0          ...             0.0   \n",
       "3          59580.034722      0       34.0          ...             0.0   \n",
       "4          59580.035169      0       34.0          ...             0.0   \n",
       "5          59580.035616      0       34.0          ...             0.0   \n",
       "\n",
       "           humidity  slewDist  slewTime  fiveSigmaDepth  ditheredRA  \\\n",
       "obsHistID                                                             \n",
       "1               0.0  1.620307  0.000000       20.941342    1.643930   \n",
       "2               0.0  0.049266  4.574944       20.999399    1.664257   \n",
       "3               0.0  0.049298  4.595615       21.047483    1.680878   \n",
       "4               0.0  0.049266  4.605366       21.100647    1.694604   \n",
       "5               0.0  0.049177  4.604023       21.139656    1.706054   \n",
       "\n",
       "           ditheredDec  descDitheredDec  descDitheredRA  descDitheredRotTelPos  \n",
       "obsHistID                                                                       \n",
       "1            -1.108924        -1.086185        1.715533               0.000000  \n",
       "2            -1.060423        -1.059274        1.663407               0.002508  \n",
       "3            -1.011722        -0.962342        1.685829               0.005246  \n",
       "4            -0.962927        -0.912870        1.718482               0.007860  \n",
       "5            -0.914123        -0.895577        1.744687               0.010330  \n",
       "\n",
       "[5 rows x 49 columns]"
      ]
     },
     "execution_count": 13,
     "metadata": {},
     "output_type": "execute_result"
    }
   ],
   "source": [
    "data.head()"
   ]
  },
  {
   "cell_type": "code",
   "execution_count": 19,
   "metadata": {
    "collapsed": true
   },
   "outputs": [],
   "source": [
    "data.to_csv(output, header=True) # Check the order of column names and make sure it matches with the table create command"
   ]
  },
  {
   "cell_type": "code",
   "execution_count": 18,
   "metadata": {
    "collapsed": true
   },
   "outputs": [],
   "source": [
    "data.to_csv(output_nohead, header=False)"
   ]
  }
 ],
 "metadata": {
  "anaconda-cloud": {},
  "kernelspec": {
   "display_name": "Python [default]",
   "language": "python",
   "name": "python2"
  },
  "language_info": {
   "codemirror_mode": {
    "name": "ipython",
    "version": 2
   },
   "file_extension": ".py",
   "mimetype": "text/x-python",
   "name": "python",
   "nbconvert_exporter": "python",
   "pygments_lexer": "ipython2",
   "version": "2.7.12"
  }
 },
 "nbformat": 4,
 "nbformat_minor": 2
}
