{
 "cells": [
  {
   "cell_type": "markdown",
   "metadata": {},
   "source": [
    "In this notebook, we produce the list of visits (obsID, fID, band) for WFD visits that overlap (either fully or partically) in the DDF region for Run 1.\n",
    "\n",
    "A csv file with relevant info is saved for each visit. Also, gifs are produced to check the a few sets of visits in each case.\n",
    "\n",
    "The code here is parallel to that in `DC2_Run2_visitsLst.ipynb`"
   ]
  },
  {
   "cell_type": "code",
   "execution_count": 1,
   "metadata": {},
   "outputs": [],
   "source": [
    "import matplotlib.pyplot as plt\n",
    "%matplotlib inline\n",
    "import numpy as np\n",
    "import os\n",
    "import healpy as hp\n",
    "from copy import deepcopy\n",
    "import time"
   ]
  },
  {
   "cell_type": "code",
   "execution_count": 2,
   "metadata": {},
   "outputs": [
    {
     "name": "stdout",
     "output_type": "stream",
     "text": [
      "/global/u2/a/awan/LSST/lsstRepos/DC2_visitList/DC2visitGen/notebooks\n"
     ]
    }
   ],
   "source": [
    "repoDir = os.getcwd()\n",
    "print(repoDir)"
   ]
  },
  {
   "cell_type": "code",
   "execution_count": 3,
   "metadata": {},
   "outputs": [
    {
     "name": "stdout",
     "output_type": "stream",
     "text": [
      "running install\n",
      "running build\n",
      "running build_py\n",
      "running install_lib\n",
      "running install_egg_info\n",
      "Removing /global/homes/a/awan/.local/lib/python3.6/site-packages/dc2visitgen-0.1-py3.6.egg-info\n",
      "Writing /global/homes/a/awan/.local/lib/python3.6/site-packages/dc2visitgen-0.1-py3.6.egg-info\n"
     ]
    }
   ],
   "source": [
    "os.chdir('/global/u2/a/awan/LSST/lsstRepos/DC2_visitList/')\n",
    "!python setup.py install --user"
   ]
  },
  {
   "cell_type": "code",
   "execution_count": 4,
   "metadata": {},
   "outputs": [],
   "source": [
    "# simdata datapath\n",
    "dbpath = '/global/cscratch1/sd/awan/dbs_old_unzipped/minion_1016_desc_dithered_v3.db'"
   ]
  },
  {
   "cell_type": "code",
   "execution_count": 5,
   "metadata": {},
   "outputs": [],
   "source": [
    "# set up\n",
    "pointingRACol = 'descDitheredRA'\n",
    "pointingDecCol = 'descDitheredDec'\n",
    "simDataTag = 'minion1016_v3'\n",
    "nside = 1024\n",
    "\n",
    "# where the data will be saved\n",
    "tag = 'DC2_Run2_Visits_nside%s'%(nside)\n",
    "outDir = '%s/../%s/'%(repoDir, tag)\n",
    "outDir_gifs = '/global/homes/a/awan/desc/DC2_GIFS/%s/'%tag"
   ]
  },
  {
   "cell_type": "markdown",
   "metadata": {},
   "source": [
    "#### Set up params"
   ]
  },
  {
   "cell_type": "code",
   "execution_count": 6,
   "metadata": {},
   "outputs": [],
   "source": [
    "regionCorners= {}\n",
    "regionCorners['WFD']= [[71.46, -27.25], [73.79, -44.33], [49.92, -44.33], [52.25, -27.25]]\n",
    "regionCorners['DD']= [[53.764, -27.533], [53.771, -28.667], [52.479, -28.667], [52.486, -27.533]]"
   ]
  },
  {
   "cell_type": "code",
   "execution_count": 7,
   "metadata": {},
   "outputs": [
    {
     "name": "stdout",
     "output_type": "stream",
     "text": [
      "{'WFD': [[71.46, -27.25], [73.79, -44.33], [49.92, -44.33], [52.25, -27.25]], 'DD': [[53.764, -27.533], [53.771, -28.667], [52.479, -28.667], [52.486, -27.533]]}\n"
     ]
    },
    {
     "data": {
      "image/png": "[encoded data removed]",
      "text/plain": [
       "<matplotlib.figure.Figure at 0x2b937f2b7668>"
      ]
     },
     "metadata": {},
     "output_type": "display_data"
    }
   ],
   "source": [
    "# plot the regions to check whats up\n",
    "def plot(regionCorners, xy= False):\n",
    "    for key in regionCorners.keys():    \n",
    "        xs, ys= [], []\n",
    "        for x, y in regionCorners[key]:\n",
    "            xs.append(x)\n",
    "            ys.append(y)\n",
    "        plt.plot(xs, ys, 'o-', label= key)\n",
    "    plt.gca().invert_xaxis()\n",
    "    plt.legend(loc=\"lower right\", ncol= 2)\n",
    "    plt.title('Coords for the regions considered here.')\n",
    "    if xy:\n",
    "        plt.xlabel('x (deg)')\n",
    "        plt.ylabel('y (deg)')\n",
    "    else:\n",
    "        plt.xlabel('ra (deg)')\n",
    "        plt.ylabel('dec (deg)')\n",
    "    plt.show()\n",
    " \n",
    "# plot\n",
    "print(regionCorners)\n",
    "plot(regionCorners)"
   ]
  },
  {
   "cell_type": "markdown",
   "metadata": {},
   "source": [
    "#### Find the visits."
   ]
  },
  {
   "cell_type": "code",
   "execution_count": 8,
   "metadata": {},
   "outputs": [],
   "source": [
    "from dc2visitgen import getDC2VisitList"
   ]
  },
  {
   "cell_type": "code",
   "execution_count": 9,
   "metadata": {},
   "outputs": [],
   "source": [
    "simdata, regionPixels, obsIDsList, fIDsList, bandList= {}, {}, {}, {}, {}"
   ]
  },
  {
   "cell_type": "code",
   "execution_count": 10,
   "metadata": {},
   "outputs": [
    {
     "name": "stdout",
     "output_type": "stream",
     "text": [
      "###### lsst.sims.maf.__version__: 2.9.0.sims\n",
      "\n",
      "Healpix slicer using NSIDE=1024, approximate resolution 3.435486 arcminutes\n",
      "Querying database Summary with no constraint for columns ['descDitheredDec', 'descDitheredRA', 'fiveSigmaDepth'].\n",
      "Found 2194905 visits\n",
      "Running:  ['pixelGrid']\n",
      "Completed metric generation.\n",
      "Running reduce methods.\n",
      "Running summary statistics.\n",
      "Completed.\n",
      "\n",
      "Finding the visit list.\n",
      "Healpix slicer using NSIDE=1024, approximate resolution 3.435486 arcminutes\n",
      "\n",
      "##Total number of unique visits in the region (across all bands): 2253\n",
      "\n",
      "Total number of unique visits in the region for u band: 156\n",
      "fIDs: [1309 1331 1419 1427 1445 1546 1566]\n",
      "\n",
      "Total number of unique visits in the region for g band: 214\n",
      "fIDs: [1309 1331 1419 1427 1445 1546 1566]\n",
      "\n",
      "Total number of unique visits in the region for r band: 488\n",
      "fIDs: [1309 1331 1419 1427 1445 1546 1566]\n",
      "\n",
      "Total number of unique visits in the region for i band: 502\n",
      "fIDs: [1309 1331 1419 1427 1445 1546 1566]\n",
      "\n",
      "Total number of unique visits in the region for z band: 447\n",
      "fIDs: [1309 1331 1419 1427 1445 1546 1566]\n",
      "\n",
      "Total number of unique visits in the region for y band: 446\n",
      "fIDs: [1309 1331 1419 1427 1445 1546 1566]\n",
      "\n",
      "Saved data in DC2VisitList_minion1016_v3_WFDvisits_nside1024_WFDvisitsInWFD_subsetOverlapDDF.csv.\n",
      "Outdir: /global/u2/a/awan/LSST/lsstRepos/DC2_visitList/DC2visitGen/notebooks/../DC2_Run2_Visits_nside1024/visitLists/.\n",
      "\n",
      "Saved data in DC2RegionPixels_minion1016_v3_WFDvisits_nside1024_WFDvisitsInWFD_subsetOverlapDDF.csv.\n",
      "Outdir: /global/u2/a/awan/LSST/lsstRepos/DC2_visitList/DC2visitGen/notebooks/../DC2_Run2_Visits_nside1024/regionPixels/.\n",
      "\n",
      "Time taken: 27.934 (min)\n"
     ]
    }
   ],
   "source": [
    "# get WFD visits that fall in the WFD footprint\n",
    "startTime = time.time()\n",
    "surveyRegionTag = 'WFD'\n",
    "\n",
    "out = getDC2VisitList(dbpath, simDataTag, surveyRegionTag, pointingRACol, pointingDecCol,\n",
    "                      outDir, nside, regionCorners['DD'],\n",
    "                      filters=['u', 'g', 'r', 'i', 'z', 'y'], outFileTag='WFDvisitsInWFD_subsetOverlapDDF')\n",
    "\n",
    "simdata[surveyRegionTag], regionPixels[surveyRegionTag], obsIDsList[surveyRegionTag], fIDsList[surveyRegionTag], bandList[surveyRegionTag] = out\n",
    "\n",
    "print('\\nTime taken: %.3f (min)'%((time.time()-startTime)/60.))"
   ]
  },
  {
   "cell_type": "markdown",
   "metadata": {},
   "source": [
    "#### Plot the sims for checks."
   ]
  },
  {
   "cell_type": "code",
   "execution_count": 11,
   "metadata": {},
   "outputs": [],
   "source": [
    "from dc2visitgen import DC2VisitsSim"
   ]
  },
  {
   "cell_type": "code",
   "execution_count": 12,
   "metadata": {},
   "outputs": [],
   "source": [
    "ras, decs = [], []\n",
    "for key in regionCorners:\n",
    "    for i in regionCorners[key]:\n",
    "        ras.append(i[0])\n",
    "        decs.append(i[1])\n",
    "    \n",
    "minRA, maxRA = min(ras), max(ras)\n",
    "minDec, maxDec = min(decs), max(decs)"
   ]
  },
  {
   "cell_type": "code",
   "execution_count": 13,
   "metadata": {},
   "outputs": [],
   "source": [
    "# read in the pixels for DD and WFD from before.\n",
    "import pandas as pd\n",
    "mainDir = '/global/homes/a/awan/LSST/lsstRepos/DC2_visitList/DC2visitGen/DC2_Run2_Visits_nside1024/regionPixels'\n",
    "regionPixels['DD'] = pd.read_csv('%s/DC2RegionPixels_minion1016_v3_DDvisits_nside1024_DDvisitsInuDD.csv'%mainDir, skiprows=0)\n",
    "regionPixels['DD'] = regionPixels['DD'].values.flatten()\n",
    "\n",
    "regionPixels['WFD'] = pd.read_csv('%s/DC2RegionPixels_minion1016_v3_WFDvisits_nside1024_WFDvisitsInWFD.csv'%mainDir, skiprows=0)\n",
    "regionPixels['WFD'] = regionPixels['WFD'].values.flatten()"
   ]
  },
  {
   "cell_type": "code",
   "execution_count": 14,
   "metadata": {},
   "outputs": [
    {
     "name": "stdout",
     "output_type": "stream",
     "text": [
      "Saved hIDs_0-100Index_WFD_overlapDD_test_nside1024.gif\n"
     ]
    }
   ],
   "source": [
    "surveyRegionTag= 'WFD'\n",
    "DC2VisitsSim(outDir_gifs, 'WFD_overlapDD_test', simdata[surveyRegionTag], pointingRACol, pointingDecCol,\n",
    "             obsIDsList[surveyRegionTag], fIDsList[surveyRegionTag], bandList[surveyRegionTag],\n",
    "             regionPixels_WFD=regionPixels['WFD'], regionPixels_DD=regionPixels['DD'],\n",
    "             nside=nside, obsHistIndMin=0, obsHistIndMax=100, dpi=60,\n",
    "             minRA=minRA, maxRA=maxRA, minDec=minDec, maxDec=maxDec)"
   ]
  },
  {
   "cell_type": "code",
   "execution_count": 15,
   "metadata": {},
   "outputs": [
    {
     "name": "stdout",
     "output_type": "stream",
     "text": [
      "Saved hIDs_1000-1100Index_WFD_overlapDD_test_nside1024.gif\n"
     ]
    }
   ],
   "source": [
    "surveyRegionTag= 'WFD'\n",
    "DC2VisitsSim(outDir_gifs, 'WFD_overlapDD_test', simdata[surveyRegionTag], pointingRACol, pointingDecCol,\n",
    "             obsIDsList[surveyRegionTag], fIDsList[surveyRegionTag], bandList[surveyRegionTag],\n",
    "             regionPixels_WFD=regionPixels['WFD'], regionPixels_DD=regionPixels['DD'],\n",
    "             nside=nside, obsHistIndMin=1000, obsHistIndMax=1100, dpi=60,\n",
    "             minRA=minRA, maxRA=maxRA, minDec=minDec, maxDec=maxDec)"
   ]
  },
  {
   "cell_type": "code",
   "execution_count": null,
   "metadata": {},
   "outputs": [],
   "source": []
  }
 ],
 "metadata": {
  "anaconda-cloud": {},
  "kernelspec": {
   "display_name": "desc-stack",
   "language": "python",
   "name": "desc-stack"
  },
  "language_info": {
   "codemirror_mode": {
    "name": "ipython",
    "version": 3
   },
   "file_extension": ".py",
   "mimetype": "text/x-python",
   "name": "python",
   "nbconvert_exporter": "python",
   "pygments_lexer": "ipython3",
   "version": "3.6.2"
  }
 },
 "nbformat": 4,
 "nbformat_minor": 2
}
