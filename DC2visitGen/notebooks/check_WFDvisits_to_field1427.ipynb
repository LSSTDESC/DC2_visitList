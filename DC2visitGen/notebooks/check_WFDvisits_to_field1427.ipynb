{
 "cells": [
  {
   "cell_type": "markdown",
   "metadata": {},
   "source": [
    "The goal here is to address [#5](https://github.com/LSSTDESC/DC2_visitList/issues/5 ), i.e. if the WFD visits to field 1427 are also being considered uDDF visits."
   ]
  },
  {
   "cell_type": "code",
   "execution_count": 1,
   "metadata": {},
   "outputs": [],
   "source": [
    "import numpy as np\n",
    "import pandas as pd\n",
    "import os\n",
    "import time"
   ]
  },
  {
   "cell_type": "code",
   "execution_count": 2,
   "metadata": {},
   "outputs": [],
   "source": [
    "mainDir = '/global/homes/a/awan/LSST/lsstRepos/DC2_visitList/DC2visitGen/'\n",
    "nside = 1024\n",
    "baseDir = '%s/DC2_Run2_Visits_nside%s/'%(mainDir, nside)"
   ]
  },
  {
   "cell_type": "markdown",
   "metadata": {},
   "source": [
    "Read in the all-band lists for Run 2"
   ]
  },
  {
   "cell_type": "code",
   "execution_count": 3,
   "metadata": {},
   "outputs": [],
   "source": [
    "outDir = '%s/DC2_Run2_Visits_nside%s/visitLists/'%(mainDir, nside)"
   ]
  },
  {
   "cell_type": "code",
   "execution_count": 4,
   "metadata": {},
   "outputs": [
    {
     "name": "stdout",
     "output_type": "stream",
     "text": [
      "---------------------------------------------------------------------------------------------------\n",
      "### Reading in WFD files\n",
      "\n",
      "Found 1 new files\n",
      "Reading in DC2VisitList_minion1016_v3_WFDvisits_nside1024_WFDvisitsInWFD.csv\n",
      "---------------------------------------------------------------------------------------------------\n",
      "### Reading in DD files\n",
      "\n",
      "Found 1 new files\n",
      "Reading in DC2VisitList_minion1016_v3_DDvisits_nside1024_DDvisitsInuDD.csv\n"
     ]
    }
   ],
   "source": [
    "data = {}\n",
    "for survey in ['WFD', 'DD']:\n",
    "    print('---------------------------------------------------------------------------------------------------')\n",
    "    print('### Reading in %s files\\n'%survey)\n",
    "    files = [f for f in os.listdir(outDir) if f.__contains__(survey)]\n",
    "    print('Found %s new files'%len(files))\n",
    "\n",
    "    if len(files)>1:\n",
    "        raise ValueError('Somethings wrong: %s'%files)\n",
    "\n",
    "    print('Reading in %s'%files[0])\n",
    "    data[survey] = pd.read_csv('%s/%s'%(outDir, files[0]), delimiter=',')"
   ]
  },
  {
   "cell_type": "code",
   "execution_count": 5,
   "metadata": {},
   "outputs": [
    {
     "name": "stdout",
     "output_type": "stream",
     "text": [
      "919 WFD to field 1427 out of 50415\n"
     ]
    }
   ],
   "source": [
    "ind = np.where(data['WFD']['fID']==1427)[0]\n",
    "print('%s WFD to field 1427 out of %s'%(len(ind), len(data['WFD']['fID'])))"
   ]
  },
  {
   "cell_type": "markdown",
   "metadata": {},
   "source": [
    "Okay so there are WFD visits to the uDDF field ID. Lets see if those visits are in the uDDF list."
   ]
  },
  {
   "cell_type": "code",
   "execution_count": 6,
   "metadata": {},
   "outputs": [
    {
     "name": "stdout",
     "output_type": "stream",
     "text": [
      "0 of the 50415 WFD visits to 1427 are in the uDDF list\n"
     ]
    }
   ],
   "source": [
    "i = 0\n",
    "for ID in data['WFD']['obsHistID'][ind]:\n",
    "    if ID in data['DD']['obsHistID']: i+=1\n",
    "        \n",
    "print('%s of the %s WFD visits to 1427 are in the uDDF list'%(i, len(data['WFD']['fID'])))"
   ]
  },
  {
   "cell_type": "markdown",
   "metadata": {},
   "source": [
    "Okay great, the WFD visits to field 1427 are *not* in the uDDF list."
   ]
  },
  {
   "cell_type": "markdown",
   "metadata": {},
   "source": [
    "Just another quick test: see if there are *any* visits that are common to the two lists"
   ]
  },
  {
   "cell_type": "code",
   "execution_count": 7,
   "metadata": {},
   "outputs": [
    {
     "name": "stdout",
     "output_type": "stream",
     "text": [
      "0 visits in common, based on WFD list\n",
      "0 visits in common, based on uDDF list\n"
     ]
    }
   ],
   "source": [
    "in_both = set(data['WFD']['obsHistID']) - (set(data['WFD']['obsHistID']) - set(data['DD']['obsHistID']) )\n",
    "print('%s visits in common, based on WFD list'%len(in_both))\n",
    "\n",
    "in_both = set(data['DD']['obsHistID']) - (set(data['DD']['obsHistID']) - set(data['WFD']['obsHistID']) )\n",
    "print('%s visits in common, based on uDDF list'%len(in_both))"
   ]
  },
  {
   "cell_type": "markdown",
   "metadata": {},
   "source": [
    "Perfect."
   ]
  },
  {
   "cell_type": "markdown",
   "metadata": {},
   "source": [
    "#### We can also quickly check for duplicated visits in the per-band lists"
   ]
  },
  {
   "cell_type": "code",
   "execution_count": 8,
   "metadata": {},
   "outputs": [],
   "source": [
    "outDir_bands = '%s/DC2_Run2_Visits_nside%s/visitLists/per_band_lists/'%(mainDir, nside)"
   ]
  },
  {
   "cell_type": "code",
   "execution_count": 10,
   "metadata": {},
   "outputs": [
    {
     "name": "stdout",
     "output_type": "stream",
     "text": [
      "---------------------------------------------------------------------------------------------------\n",
      "### Reading in WFD files\n",
      "\n",
      "## Reading in u-band files\n",
      "\n",
      "Found 1 new files\n",
      "Reading in DC2_Run2_u-band_WFDvisits.txt\n",
      "## Reading in g-band files\n",
      "\n",
      "Found 1 new files\n",
      "Reading in DC2_Run2_g-band_WFDvisits.txt\n",
      "## Reading in r-band files\n",
      "\n",
      "Found 1 new files\n",
      "Reading in DC2_Run2_r-band_WFDvisits.txt\n",
      "## Reading in i-band files\n",
      "\n",
      "Found 1 new files\n",
      "Reading in DC2_Run2_i-band_WFDvisits.txt\n",
      "## Reading in z-band files\n",
      "\n",
      "Found 1 new files\n",
      "Reading in DC2_Run2_z-band_WFDvisits.txt\n",
      "## Reading in y-band files\n",
      "\n",
      "Found 1 new files\n",
      "Reading in DC2_Run2_y-band_WFDvisits.txt\n",
      "---------------------------------------------------------------------------------------------------\n",
      "### Reading in DD files\n",
      "\n",
      "## Reading in u-band files\n",
      "\n",
      "Found 1 new files\n",
      "Reading in DC2_Run2_u-band_uDDFvisits.txt\n",
      "## Reading in g-band files\n",
      "\n",
      "Found 1 new files\n",
      "Reading in DC2_Run2_g-band_uDDFvisits.txt\n",
      "## Reading in r-band files\n",
      "\n",
      "Found 1 new files\n",
      "Reading in DC2_Run2_r-band_uDDFvisits.txt\n",
      "## Reading in i-band files\n",
      "\n",
      "Found 1 new files\n",
      "Reading in DC2_Run2_i-band_uDDFvisits.txt\n",
      "## Reading in z-band files\n",
      "\n",
      "Found 1 new files\n",
      "Reading in DC2_Run2_z-band_uDDFvisits.txt\n",
      "## Reading in y-band files\n",
      "\n",
      "Found 1 new files\n",
      "Reading in DC2_Run2_y-band_uDDFvisits.txt\n"
     ]
    }
   ],
   "source": [
    "data = {}\n",
    "for survey in ['WFD', 'DD']:\n",
    "    data[survey] = {}\n",
    "    print('---------------------------------------------------------------------------------------------------')\n",
    "    print('### Reading in %s files\\n'%survey)\n",
    "    for band in ['u', 'g', 'r', 'i', 'z', 'y']:\n",
    "        print('## Reading in %s-band files\\n'%band)\n",
    "        # file the filename\n",
    "        new_files = [f for f in os.listdir(outDir_bands) if f.__contains__('%s-band'%band) and f.__contains__(survey)]\n",
    "        print('Found %s new files'%len(new_files))\n",
    "        # there should not be more than 1 file\n",
    "        if len(new_files)>1:\n",
    "            raise ValueError('Somethings wrong: %s'%new_files)\n",
    "        # read in the data\n",
    "        print('Reading in %s'%new_files[0])\n",
    "        data[survey][band] = pd.read_csv('%s/%s'%(outDir_bands, new_files[0]), delimiter=' ')"
   ]
  },
  {
   "cell_type": "markdown",
   "metadata": {},
   "source": [
    "Can't check for field specifically since the per-band files dont include the fieldID column. We can only check for the common visits:"
   ]
  },
  {
   "cell_type": "code",
   "execution_count": 11,
   "metadata": {},
   "outputs": [
    {
     "name": "stdout",
     "output_type": "stream",
     "text": [
      "Band: u\n",
      "0 visits common, based on WFD list\n",
      "0 visits common, based on DDF list\n",
      "\n",
      "Band: g\n",
      "0 visits common, based on WFD list\n",
      "0 visits common, based on DDF list\n",
      "\n",
      "Band: r\n",
      "0 visits common, based on WFD list\n",
      "0 visits common, based on DDF list\n",
      "\n",
      "Band: i\n",
      "0 visits common, based on WFD list\n",
      "0 visits common, based on DDF list\n",
      "\n",
      "Band: z\n",
      "0 visits common, based on WFD list\n",
      "0 visits common, based on DDF list\n",
      "\n",
      "Band: y\n",
      "0 visits common, based on WFD list\n",
      "0 visits common, based on DDF list\n",
      "\n"
     ]
    }
   ],
   "source": [
    "for band in data['WFD'].keys():\n",
    "    print('Band: %s'%band)\n",
    "    # now check for common visits\n",
    "    in_both = set(data['WFD'][band]['obsHistID']) - (set(data['WFD'][band]['obsHistID']) - set(data['DD'][band]['obsHistID']) )\n",
    "    print('%s visits common, based on WFD list'%len(in_both))\n",
    "    \n",
    "    in_both = set(data['DD'][band]['obsHistID']) - (set(data['DD'][band]['obsHistID']) - set(data['WFD'][band]['obsHistID']) )\n",
    "    print('%s visits common, based on DDF list\\n'%len(in_both))"
   ]
  },
  {
   "cell_type": "markdown",
   "metadata": {},
   "source": [
    "Okay great, no visits are in common across any of the per-band lists."
   ]
  },
  {
   "cell_type": "code",
   "execution_count": null,
   "metadata": {},
   "outputs": [],
   "source": []
  }
 ],
 "metadata": {
  "kernelspec": {
   "display_name": "desc-stack",
   "language": "python",
   "name": "desc-stack"
  },
  "language_info": {
   "codemirror_mode": {
    "name": "ipython",
    "version": 3
   },
   "file_extension": ".py",
   "mimetype": "text/x-python",
   "name": "python",
   "nbconvert_exporter": "python",
   "pygments_lexer": "ipython3",
   "version": "3.6.2"
  }
 },
 "nbformat": 4,
 "nbformat_minor": 2
}
